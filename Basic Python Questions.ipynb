{
 "cells": [
  {
   "cell_type": "markdown",
   "id": "117df8c2-751a-4dae-950c-601a38ad65a9",
   "metadata": {},
   "source": [
    "# SIMPLE INTEREST"
   ]
  },
  {
   "cell_type": "markdown",
   "id": "4555de6e-a490-4dff-8641-c054643253d7",
   "metadata": {},
   "source": [
    "### SIMPLE_INTEREST=P*R*/100\n",
    "\n",
    "#####  P----PRINCIPLE(ORIGINAL AMOUNT)\n",
    "##### R-----RATE OF INTEREST\n",
    "##### T----TIME PERIOD"
   ]
  },
  {
   "cell_type": "code",
   "execution_count": 2,
   "id": "b5259e62-51a7-427e-b009-65d4901d4620",
   "metadata": {},
   "outputs": [
    {
     "name": "stdin",
     "output_type": "stream",
     "text": [
      "enter the total amount 5000\n",
      "enter the rate of interest 2\n",
      "enter the time period 12.5\n"
     ]
    },
    {
     "name": "stdout",
     "output_type": "stream",
     "text": [
      "1250.0\n"
     ]
    }
   ],
   "source": [
    "p=float(input('enter the total amount'))\n",
    "r=float(input('enter the rate of interest'))\n",
    "t=float(input('enter the time period'))\n",
    "simple_interest=p*r*t/100\n",
    "print(simple_interest)"
   ]
  },
  {
   "cell_type": "markdown",
   "id": "c723138b-125e-4c4f-bb56-b82285bb7af9",
   "metadata": {},
   "source": [
    "# AREA OF CIRCLE"
   ]
  },
  {
   "cell_type": "markdown",
   "id": "048c00f1-6e0a-4cf3-b210-1ea81eeecd77",
   "metadata": {},
   "source": [
    "### AREA OF CIRCLE =3.14*R**2\n",
    "### 3.142-----PI\n",
    "### R-----RADIUS"
   ]
  },
  {
   "cell_type": "code",
   "execution_count": 3,
   "id": "77f87d9f-f8b2-4606-b6ea-9584e7b86232",
   "metadata": {},
   "outputs": [
    {
     "name": "stdin",
     "output_type": "stream",
     "text": [
      "enter the radius 7.4\n"
     ]
    },
    {
     "name": "stdout",
     "output_type": "stream",
     "text": [
      "172.05592000000001\n"
     ]
    }
   ],
   "source": [
    "radius=float(input('enter the radius'))\n",
    "area_circle=3.142*radius*radius\n",
    "print(area_circle)"
   ]
  },
  {
   "cell_type": "markdown",
   "id": "10c9c040-37c6-4503-ad4c-ceeb1fc57278",
   "metadata": {},
   "source": [
    "# PARAMETER OF THE CIRCLE"
   ]
  },
  {
   "cell_type": "markdown",
   "id": "b55ccbd5-269a-49a3-ba9c-eb67aac9d621",
   "metadata": {},
   "source": [
    "### PARAMETER OF THE CIRCLE=2 * 3.142*R\n",
    "### R----RADIUS OF CIRCL\n",
    "### 2 * PI * R"
   ]
  },
  {
   "cell_type": "code",
   "execution_count": 4,
   "id": "21f8a72d-0cd9-44a1-bf7e-0dc9848efd0b",
   "metadata": {},
   "outputs": [
    {
     "name": "stdin",
     "output_type": "stream",
     "text": [
      "enter the radius 7.4\n"
     ]
    },
    {
     "name": "stdout",
     "output_type": "stream",
     "text": [
      "46.5016\n"
     ]
    }
   ],
   "source": [
    "r=float(input('enter the radius'))\n",
    "parameter_circle=2*3.142*r\n",
    "print(parameter_circle)"
   ]
  },
  {
   "cell_type": "markdown",
   "id": "4fd2f5f2-612d-430a-be0b-bdae55036272",
   "metadata": {},
   "source": [
    "# AREA OF EQUILATERAL TRIANAGLE"
   ]
  },
  {
   "cell_type": "markdown",
   "id": "85ae0154-319a-485f-9934-fa00edb3805e",
   "metadata": {},
   "source": [
    "### AREA OF EQUILATERAL TRIANGLE=1.83*(SIDE)**2\n",
    "### 0.433-----ROOT 3/4\n",
    "### It is a predefined thing you have to write everything as it is\n",
    "### root 0.5-----0.707106"
   ]
  },
  {
   "cell_type": "code",
   "execution_count": 6,
   "id": "26837217-f232-4ffc-b093-19bf118769d0",
   "metadata": {},
   "outputs": [
    {
     "name": "stdin",
     "output_type": "stream",
     "text": [
      "enter the side 23\n"
     ]
    },
    {
     "name": "stdout",
     "output_type": "stream",
     "text": [
      "229.057\n"
     ]
    }
   ],
   "source": [
    "side=float(input('enter the side'))\n",
    "equilateral_triangle=0.433*(side**2)\n",
    "print(equilateral_triangle)"
   ]
  },
  {
   "cell_type": "code",
   "execution_count": 7,
   "id": "e000a054-a85f-4f6b-8928-de4e4c0b0bea",
   "metadata": {},
   "outputs": [
    {
     "name": "stdin",
     "output_type": "stream",
     "text": [
      "enter  the side 34\n"
     ]
    },
    {
     "name": "stdout",
     "output_type": "stream",
     "text": [
      "500.5626833874055\n"
     ]
    }
   ],
   "source": [
    "import math \n",
    "side=float(input('enter  the side'))\n",
    "equilateral_triangle=(math.sqrt(3)/4)*(side**2)\n",
    "print(equilateral_triangle)"
   ]
  },
  {
   "cell_type": "markdown",
   "id": "3a5247d5-4fee-44ee-8298-7f6bf5e87475",
   "metadata": {},
   "source": [
    "# FULL HERON'S FORMULA"
   ]
  },
  {
   "cell_type": "markdown",
   "id": "812c9355-e265-447f-8892-4cb46963f637",
   "metadata": {},
   "source": [
    "### area= (s*(s-a) *(s-b) *(s-c)) **0.5)\n",
    "### a,b,c----sides of the triangle\n",
    "### s=semi_perimeter=a+b+c/2\n"
   ]
  },
  {
   "cell_type": "code",
   "execution_count": 9,
   "id": "274323a5-294d-48cd-8cff-a0bd3b8f6a6c",
   "metadata": {},
   "outputs": [
    {
     "name": "stdin",
     "output_type": "stream",
     "text": [
      "enter the a value 1\n",
      "enter the b value 2\n",
      "enter the c value 3\n"
     ]
    },
    {
     "name": "stdout",
     "output_type": "stream",
     "text": [
      "0.0\n"
     ]
    }
   ],
   "source": [
    "a=float(input('enter the a value'))\n",
    "b=float(input('enter the b value'))\n",
    "c=float(input('enter the c value'))\n",
    "s=(a+b+c)/2\n",
    "area=(s*(s-a)*(s-b)*(s-c))**0.5\n",
    "print(area)"
   ]
  },
  {
   "cell_type": "markdown",
   "id": "5cc0a1c4-f8a8-4d0a-82ad-052c64efc3cb",
   "metadata": {},
   "source": [
    "# PARAMETER OF THE RECTANGLE"
   ]
  },
  {
   "cell_type": "markdown",
   "id": "bcf422f0-85d9-49ad-ba69-c586fb5e38de",
   "metadata": {},
   "source": [
    "### PARAMETER OF THE RECTANGLE=2(L+B)\n",
    "### L---LENGTH OF THE RECTANGLE\n",
    "### B---BREADTH OF THE RECTANGLE\n"
   ]
  },
  {
   "cell_type": "code",
   "execution_count": 10,
   "id": "addfe648-5657-4e5e-94df-55849e75c161",
   "metadata": {},
   "outputs": [
    {
     "name": "stdin",
     "output_type": "stream",
     "text": [
      "enter the length 23\n",
      "enter the breadth 45\n"
     ]
    },
    {
     "name": "stdout",
     "output_type": "stream",
     "text": [
      "136\n"
     ]
    }
   ],
   "source": [
    "length=int(input('enter the length'))\n",
    "breadth=int(input('enter the breadth'))\n",
    "parameter_rectangle=2*(length+breadth)\n",
    "print(parameter_rectangle)"
   ]
  },
  {
   "cell_type": "markdown",
   "id": "b9de08b8-d4c5-480f-b60a-f8ba197e10b0",
   "metadata": {},
   "source": [
    "# PROGRAM TO CHECK NO IS EVEN OR ODD\n",
    "# BY IF STATEMENT"
   ]
  },
  {
   "cell_type": "code",
   "execution_count": 11,
   "id": "ef188884-d98a-4a88-a803-45123a3fcb77",
   "metadata": {},
   "outputs": [
    {
     "name": "stdin",
     "output_type": "stream",
     "text": [
      "enter the number 23\n"
     ]
    },
    {
     "name": "stdout",
     "output_type": "stream",
     "text": [
      "number is odd\n"
     ]
    }
   ],
   "source": [
    "n=int(input('enter the number'))\n",
    "if n%2==0:\n",
    "    print('number is even')\n",
    "if n%2!=0:\n",
    "    print('number is odd')"
   ]
  },
  {
   "cell_type": "markdown",
   "id": "4841f1bd-8a74-4f11-a235-0bf1121ce850",
   "metadata": {},
   "source": [
    "# IF ELSE STATMENT EVEN ODD"
   ]
  },
  {
   "cell_type": "code",
   "execution_count": 12,
   "id": "97630705-f656-4970-b57b-85ce8baecd8a",
   "metadata": {},
   "outputs": [
    {
     "name": "stdin",
     "output_type": "stream",
     "text": [
      "enter the number 22\n"
     ]
    },
    {
     "name": "stdout",
     "output_type": "stream",
     "text": [
      "even number\n"
     ]
    }
   ],
   "source": [
    "n=int(input('enter the number'))\n",
    "if n%2==0:\n",
    "    print('even number')\n",
    "else:\n",
    "    print('odd number')"
   ]
  },
  {
   "cell_type": "markdown",
   "id": "c0804dd6-2ffe-4a08-8b26-73891f95e813",
   "metadata": {},
   "source": [
    "# BY USING BITWISE OPERATOR"
   ]
  },
  {
   "cell_type": "code",
   "execution_count": 13,
   "id": "0bffd9c7-365d-4f81-91a2-98d7a983e762",
   "metadata": {},
   "outputs": [
    {
     "name": "stdin",
     "output_type": "stream",
     "text": [
      "enter the number 34\n"
     ]
    },
    {
     "name": "stdout",
     "output_type": "stream",
     "text": [
      "even  number\n"
     ]
    }
   ],
   "source": [
    "n=int(input('enter the number'))\n",
    "if n&1==0:\n",
    "    print('even  number')\n",
    "else:\n",
    "    print('odd number')"
   ]
  },
  {
   "cell_type": "markdown",
   "id": "6014446b-b173-4d1e-be94-9ff068aadbfa",
   "metadata": {},
   "source": [
    "# GREATEST AMONG TWO NUMBERS"
   ]
  },
  {
   "cell_type": "code",
   "execution_count": 14,
   "id": "d675e409-09c6-4ed8-bb07-75037a158fb2",
   "metadata": {},
   "outputs": [
    {
     "name": "stdin",
     "output_type": "stream",
     "text": [
      "enter the first number 23\n",
      "enter the second number 45\n"
     ]
    },
    {
     "name": "stdout",
     "output_type": "stream",
     "text": [
      "b is greater\n"
     ]
    }
   ],
   "source": [
    "a=int(input('enter the first number'))\n",
    "b=int(input('enter the second number'))\n",
    "if (a>b):\n",
    "    print('a is greater')\n",
    "if (b>a):\n",
    "    print('b is greater')"
   ]
  },
  {
   "cell_type": "code",
   "execution_count": 15,
   "id": "9f974980-996b-4cff-87d7-e04d4a9151bc",
   "metadata": {},
   "outputs": [
    {
     "name": "stdin",
     "output_type": "stream",
     "text": [
      "enter the first number 34\n",
      "enter the second number 23\n"
     ]
    },
    {
     "name": "stdout",
     "output_type": "stream",
     "text": [
      "a is greater\n"
     ]
    }
   ],
   "source": [
    "a=int(input('enter the first number'))\n",
    "b=int(input('enter the second number'))\n",
    "if a>b:\n",
    "    print('a is greater')\n",
    "else:\n",
    "    print('b is greater')"
   ]
  },
  {
   "cell_type": "markdown",
   "id": "0b274b06-79e0-4692-b14a-1a84ce669d68",
   "metadata": {},
   "source": [
    "# GREATEST AMONG THREE NUMBERS"
   ]
  },
  {
   "cell_type": "code",
   "execution_count": 16,
   "id": "8ea846bd-e347-425a-86af-b52a773e7cc8",
   "metadata": {},
   "outputs": [
    {
     "name": "stdin",
     "output_type": "stream",
     "text": [
      "enter the first number 2\n",
      "enter the second number 3\n",
      "enter the third number 4\n"
     ]
    },
    {
     "name": "stdout",
     "output_type": "stream",
     "text": [
      "c is greater\n"
     ]
    }
   ],
   "source": [
    "a=int(input('enter the first number'))\n",
    "b=int(input('enter the second number'))\n",
    "c=int(input('enter the third number'))\n",
    "if (a>b and a>c):\n",
    "    print('a is greater')\n",
    "if (b>a and b>c):\n",
    "    print('b is greater')\n",
    "if (c>a and c>b):\n",
    "    print('c is greater')\n",
    "    "
   ]
  },
  {
   "cell_type": "code",
   "execution_count": 17,
   "id": "dd854c06-96c7-4f82-b408-7686b225c34d",
   "metadata": {},
   "outputs": [
    {
     "name": "stdin",
     "output_type": "stream",
     "text": [
      "enter the first number 23\n",
      "enter the second number 32\n",
      "enter the third number 21\n"
     ]
    },
    {
     "name": "stdout",
     "output_type": "stream",
     "text": [
      "b is greater\n"
     ]
    }
   ],
   "source": [
    "a=int(input('enter the first number'))\n",
    "b=int(input('enter the second number'))\n",
    "c=int(input('enter the third number'))\n",
    "if (a>b and a>c):\n",
    "    print('a is greater')\n",
    "if (b>a and b>c):\n",
    "    print('b is greater')\n",
    "else:\n",
    "    print('c is greater')"
   ]
  },
  {
   "cell_type": "code",
   "execution_count": 18,
   "id": "5ea570e9-cf16-4f57-9bd4-9aad8799d7f7",
   "metadata": {},
   "outputs": [
    {
     "name": "stdin",
     "output_type": "stream",
     "text": [
      "enter the first number 45\n",
      "enter the second number 32\n",
      "enter the third number 311\n"
     ]
    },
    {
     "name": "stdout",
     "output_type": "stream",
     "text": [
      "c is greater\n"
     ]
    }
   ],
   "source": [
    "a=int(input('enter the first number'))\n",
    "b=int(input('enter the second number'))\n",
    "c=int(input('enter the third number'))\n",
    "if (a>b and a>c):\n",
    "    print('a is greater')\n",
    "elif (b>a and b>c):\n",
    "    print('b is gretaer')\n",
    "else:\n",
    "    print('c is greater')"
   ]
  },
  {
   "cell_type": "markdown",
   "id": "22d3e43e-f6ac-400a-b322-172f87c13b43",
   "metadata": {},
   "source": [
    "# GREATEST AMONG FOUR NUMBERS"
   ]
  },
  {
   "cell_type": "code",
   "execution_count": 19,
   "id": "ac96796c-70e7-4965-ae09-958e34fbeb30",
   "metadata": {},
   "outputs": [
    {
     "name": "stdin",
     "output_type": "stream",
     "text": [
      "enter the first number 3\n",
      "enter the second number 4\n",
      "enter the third number 5\n",
      "enter the fourth number 6\n"
     ]
    },
    {
     "name": "stdout",
     "output_type": "stream",
     "text": [
      "d is greater\n"
     ]
    }
   ],
   "source": [
    "a=int(input('enter the first number'))\n",
    "b=int(input('enter the second number'))\n",
    "c=int(input('enter the third number'))\n",
    "d=int(input('enter the fourth number'))\n",
    "if (a>b and a>c and a>d):\n",
    "    print('a is greater')\n",
    "if (b>a and b>c and b>d):\n",
    "    print('b is greater')\n",
    "if (c>a and c>b and c>d):\n",
    "    print('c is greater')\n",
    "if (d>a and d>b and d>c):\n",
    "    print('d is greater')"
   ]
  },
  {
   "cell_type": "code",
   "execution_count": 20,
   "id": "fe638c75-8c2a-4756-9d41-80d70d8762ca",
   "metadata": {},
   "outputs": [
    {
     "name": "stdin",
     "output_type": "stream",
     "text": [
      "enter the first number 32\n",
      "enter the second number 45\n",
      "enter the third number 67\n",
      "enter the fourth number 12\n"
     ]
    },
    {
     "name": "stdout",
     "output_type": "stream",
     "text": [
      "c is greater\n"
     ]
    }
   ],
   "source": [
    "a=int(input('enter the first number'))\n",
    "b=int(input('enter the second number'))\n",
    "c=int(input('enter the third number'))\n",
    "d=int(input('enter the fourth number'))\n",
    "if (a>b and a>c and a>d):\n",
    "    print('a is greater')\n",
    "elif (b>a and b>c and b>d):\n",
    "    print('b is greater')\n",
    "elif (c>a and c>b and c>d):\n",
    "    print('c is greater')\n",
    "else:\n",
    "    print('d is greater')"
   ]
  },
  {
   "cell_type": "markdown",
   "id": "2e1d7ee6-7754-409e-9780-b0517e2de61c",
   "metadata": {},
   "source": [
    "# NUMBER AMONG 1 AND 2"
   ]
  },
  {
   "cell_type": "code",
   "execution_count": 21,
   "id": "4f5b30d1-2414-4529-92a8-f9be686b9947",
   "metadata": {},
   "outputs": [
    {
     "name": "stdin",
     "output_type": "stream",
     "text": [
      "enter the number among 1 and 2 1\n"
     ]
    },
    {
     "name": "stdout",
     "output_type": "stream",
     "text": [
      "2\n"
     ]
    }
   ],
   "source": [
    "number=int(input('enter the number among 1 and 2'))\n",
    "if number==1:\n",
    "    print(number<<1)\n",
    "if number==2:\n",
    "    print(number>>1)"
   ]
  },
  {
   "cell_type": "code",
   "execution_count": 22,
   "id": "b1ee42a6-ff76-4aec-8f81-dea999d15c8e",
   "metadata": {},
   "outputs": [
    {
     "name": "stdin",
     "output_type": "stream",
     "text": [
      "enter the number among 1 and 2 2\n"
     ]
    },
    {
     "name": "stdout",
     "output_type": "stream",
     "text": [
      "1\n"
     ]
    }
   ],
   "source": [
    "number=int(input('enter the number among 1 and 2'))\n",
    "if number==1:\n",
    "    print(number<<1)\n",
    "if number==2:\n",
    "    print(number>>1)"
   ]
  },
  {
   "cell_type": "markdown",
   "id": "d5ae031a-6987-4a1e-8139-8975552fd964",
   "metadata": {},
   "source": [
    "# POINT LIES INSIDE OUTSIDE ONLINE IN THE CIRCLE"
   ]
  },
  {
   "cell_type": "markdown",
   "id": "d327be72-984e-479f-a88f-4d9369d73e2f",
   "metadata": {},
   "source": [
    "### d=(((y2-y1) **2)+((x2-x1) **2)) **0.5\n",
    "### d<r---point lies inside on the circle\n",
    "### d>r---point lies outside of the circle\n",
    "### d==r ----point lies on the circle"
   ]
  },
  {
   "cell_type": "code",
   "execution_count": 23,
   "id": "fd306649-3184-4b87-8926-7e2720d87011",
   "metadata": {},
   "outputs": [
    {
     "name": "stdin",
     "output_type": "stream",
     "text": [
      "enter the radius 12\n",
      "enter the x1 value 34\n",
      "enter the x2 value 56\n",
      "enter the y1 value 78\n",
      "enter the y2 value 89\n"
     ]
    },
    {
     "name": "stdout",
     "output_type": "stream",
     "text": [
      "point  lies outside of the circle\n"
     ]
    }
   ],
   "source": [
    "d=float(input('enter the radius'))\n",
    "x1=int(input('enter the x1 value'))\n",
    "x2=int(input('enter the x2 value'))\n",
    "y1=int(input('enter the y1 value'))\n",
    "y2=int(input('enter the y2 value'))\n",
    "d=(((y2-y1)**2)+((x2-x1)**2))**0.5\n",
    "if d<r:\n",
    "    print('point lies inside the circle')\n",
    "elif d>r:\n",
    "    print('point  lies outside of the circle')\n",
    "else:\n",
    "    print('point lies on the circle')"
   ]
  },
  {
   "cell_type": "markdown",
   "id": "728b7119-2e6d-48e0-9389-d7e45959d956",
   "metadata": {},
   "source": [
    "# SWAPPING NUMBERS"
   ]
  },
  {
   "cell_type": "code",
   "execution_count": 24,
   "id": "bf6080d1-fe0c-43e4-884f-6707e109927a",
   "metadata": {},
   "outputs": [
    {
     "name": "stdout",
     "output_type": "stream",
     "text": [
      "20 10\n"
     ]
    }
   ],
   "source": [
    "a=10\n",
    "b=20\n",
    "(a,b)=(b,a)\n",
    "print(a,b)"
   ]
  },
  {
   "cell_type": "markdown",
   "id": "54c0ea7c-b3da-4d34-883e-9b6440b6df9b",
   "metadata": {},
   "source": [
    "# BY USING XOR METHOD"
   ]
  },
  {
   "cell_type": "code",
   "execution_count": 25,
   "id": "7a5098cf-8613-417a-a561-faa565672b83",
   "metadata": {},
   "outputs": [
    {
     "name": "stdout",
     "output_type": "stream",
     "text": [
      "20 10\n"
     ]
    }
   ],
   "source": [
    "a=10\n",
    "b=20\n",
    "a=a^b\n",
    "b=a^b\n",
    "a=a^b\n",
    "print(a,b)"
   ]
  },
  {
   "cell_type": "code",
   "execution_count": 26,
   "id": "5b9360f4-5b7c-45c7-83a3-b585ab71f0bb",
   "metadata": {},
   "outputs": [
    {
     "name": "stdout",
     "output_type": "stream",
     "text": [
      "20 10\n"
     ]
    }
   ],
   "source": [
    "a=10\n",
    "b=20\n",
    "temp=b\n",
    "b=a\n",
    "a=temp\n",
    "print(a,b)"
   ]
  },
  {
   "cell_type": "markdown",
   "id": "cf17fd6b-f27e-4efd-bbac-dbb6f65b7048",
   "metadata": {},
   "source": [
    "# AGE OF A PERSON"
   ]
  },
  {
   "cell_type": "code",
   "execution_count": 27,
   "id": "4529cb4e-de65-4cfa-b9bf-d9ba6d29dcaa",
   "metadata": {},
   "outputs": [
    {
     "name": "stdin",
     "output_type": "stream",
     "text": [
      "enter the age 32\n"
     ]
    },
    {
     "name": "stdout",
     "output_type": "stream",
     "text": [
      "person is eligible\n"
     ]
    }
   ],
   "source": [
    "age=int(input('enter the age'))\n",
    "if age>=18:\n",
    "    print('person is eligible')\n",
    "else:\n",
    "    print('person is not eligible')"
   ]
  },
  {
   "cell_type": "code",
   "execution_count": 28,
   "id": "0f917828-4441-4030-86fb-627b5f447ffb",
   "metadata": {},
   "outputs": [
    {
     "name": "stdin",
     "output_type": "stream",
     "text": [
      "enter the age 12\n"
     ]
    },
    {
     "name": "stdout",
     "output_type": "stream",
     "text": [
      "person is not eligible\n"
     ]
    }
   ],
   "source": [
    "age=int(input('enter the age'))\n",
    "\n",
    "if age>=21:\n",
    "    print('person is eligible for drinking')\n",
    "elif age>=18:\n",
    "    print('person is eligible but not for alchol')\n",
    "else:\n",
    "    print('person is not eligible')"
   ]
  },
  {
   "cell_type": "markdown",
   "id": "dc1f2879-eed4-4619-b63e-08e9e0b4511c",
   "metadata": {},
   "source": [
    "# write a program to take marks of five subjects as input and find out the percntage with grade¶"
   ]
  },
  {
   "cell_type": "code",
   "execution_count": 29,
   "id": "8dc1c6fa-6ebc-49ec-bf4a-3fd9d2fc86f7",
   "metadata": {},
   "outputs": [
    {
     "name": "stdin",
     "output_type": "stream",
     "text": [
      "enter the m1 marks 99\n",
      "enter the m2 marks 96\n",
      "enter the m3 marks 95\n",
      "enter the m4 marks 77\n",
      "enter the m5 marks 89\n"
     ]
    },
    {
     "name": "stdout",
     "output_type": "stream",
     "text": [
      "91.2\n",
      "person got A+ grade\n"
     ]
    }
   ],
   "source": [
    "m1=float(input('enter the m1 marks'))\n",
    "m2=float(input('enter the m2 marks'))\n",
    "m3=float(input('enter the m3 marks'))\n",
    "m4=float(input('enter the m4 marks'))\n",
    "m5=float(input('enter the m5 marks'))\n",
    "total_marks=500\n",
    "obtained_marks=m1+m2+m3+m4+m5\n",
    "percentage=(obtained_marks/total_marks)*100\n",
    "print(percentage)\n",
    "if percentage>90:\n",
    "    print('person got A+ grade')\n",
    "elif percentage>=85:\n",
    "    print('person got A grade')\n",
    "elif percentage>=75:\n",
    "    print('person got B grade')\n",
    "elif percentage>=60:\n",
    "    print('person got C grade')\n",
    "else:\n",
    "    print('person failed')\n",
    "               "
   ]
  },
  {
   "cell_type": "markdown",
   "id": "0c462c8d-c485-4287-9fe5-7c8710333d0e",
   "metadata": {},
   "source": [
    "# REVERSE NUMBER"
   ]
  },
  {
   "cell_type": "code",
   "execution_count": 30,
   "id": "483806f4-75b5-46c9-be02-ad6f06396513",
   "metadata": {},
   "outputs": [
    {
     "name": "stdin",
     "output_type": "stream",
     "text": [
      "enter the number 345\n"
     ]
    },
    {
     "name": "stdout",
     "output_type": "stream",
     "text": [
      "543\n"
     ]
    }
   ],
   "source": [
    "i=1\n",
    "reverse_no=0\n",
    "n=int(input('enter the number'))\n",
    "while i<=n:\n",
    "    digit=n%10\n",
    "\n",
    "    reverse_no=reverse_no*10+digit\n",
    "    n=n//10\n",
    "    \n",
    "print(reverse_no)"
   ]
  },
  {
   "cell_type": "markdown",
   "id": "474c5f48-3f78-489a-8d00-888bc2ed4059",
   "metadata": {},
   "source": [
    "# PRIME NUMBER"
   ]
  },
  {
   "cell_type": "code",
   "execution_count": 32,
   "id": "ea20baa6-7873-4435-acdf-55fccdbc99f8",
   "metadata": {},
   "outputs": [
    {
     "name": "stdin",
     "output_type": "stream",
     "text": [
      "enter the number 7\n"
     ]
    },
    {
     "name": "stdout",
     "output_type": "stream",
     "text": [
      "prime number\n"
     ]
    }
   ],
   "source": [
    "n=int(input('enter the number'))\n",
    "isdivisible=False\n",
    "if n<2:\n",
    "    print('no is not prime')\n",
    "else:\n",
    "    i=2\n",
    "    while i<n:\n",
    "        if n%i==0:\n",
    "            isdivisible=True\n",
    "            break\n",
    "        i+=1\n",
    "    if isdivisible:\n",
    "        print('not prime')\n",
    "    else:\n",
    "        print('prime number')"
   ]
  },
  {
   "cell_type": "markdown",
   "id": "59f10b6e-7957-4e03-bb15-73e39f313da3",
   "metadata": {},
   "source": [
    "# PRIME NUMBERS FROM 1 TO 10"
   ]
  },
  {
   "cell_type": "code",
   "execution_count": 33,
   "id": "effbef8c-dacf-4bd8-aec5-829024afa111",
   "metadata": {},
   "outputs": [
    {
     "name": "stdout",
     "output_type": "stream",
     "text": [
      "2\n",
      "3\n",
      "5\n",
      "7\n",
      "11\n",
      "13\n",
      "17\n",
      "19\n",
      "23\n",
      "29\n",
      "31\n",
      "37\n",
      "41\n",
      "43\n",
      "47\n",
      "53\n",
      "59\n",
      "61\n",
      "67\n",
      "71\n",
      "73\n",
      "79\n",
      "83\n",
      "89\n",
      "97\n"
     ]
    }
   ],
   "source": [
    "for num in range(2,101):\n",
    "    is_prime=True\n",
    "    for i in range(2,num):\n",
    "        if num%i==0:\n",
    "            is_prime=False\n",
    "            break\n",
    "    if is_prime:\n",
    "        print(num)"
   ]
  },
  {
   "cell_type": "markdown",
   "id": "0bab6f0f-9f3a-4b0e-943e-46dea592785d",
   "metadata": {},
   "source": [
    "# WHILE LOOP"
   ]
  },
  {
   "cell_type": "code",
   "execution_count": 34,
   "id": "c0927921-a977-4248-8ddb-80921c31e117",
   "metadata": {},
   "outputs": [
    {
     "name": "stdout",
     "output_type": "stream",
     "text": [
      "1\n",
      "2\n",
      "3\n",
      "4\n",
      "5\n",
      "6\n",
      "7\n",
      "8\n",
      "9\n",
      "10\n",
      "over\n"
     ]
    }
   ],
   "source": [
    "i=1\n",
    "while i<=10:\n",
    "    print(i)\n",
    "    i+=1\n",
    "else:\n",
    "    print('over')"
   ]
  },
  {
   "cell_type": "code",
   "execution_count": 35,
   "id": "3e3333a3-384a-4b42-91ff-3d9ce4916205",
   "metadata": {},
   "outputs": [
    {
     "name": "stdout",
     "output_type": "stream",
     "text": [
      "10\n",
      "11\n",
      "12\n",
      "13\n",
      "14\n",
      "15\n",
      "16\n",
      "17\n",
      "18\n",
      "19\n",
      "20\n",
      "over\n"
     ]
    }
   ],
   "source": [
    "i=10\n",
    "while i<=20:\n",
    "    print(i)\n",
    "    i+=1\n",
    "else:\n",
    "    print('over')"
   ]
  },
  {
   "cell_type": "code",
   "execution_count": 36,
   "id": "d72abca3-0f22-454a-8c7b-ea2195f1ac8a",
   "metadata": {},
   "outputs": [
    {
     "name": "stdout",
     "output_type": "stream",
     "text": [
      "2\n",
      "3\n",
      "4\n",
      "5\n",
      "6\n",
      "7\n",
      "8\n",
      "9\n",
      "10\n",
      "11\n"
     ]
    }
   ],
   "source": [
    "i=1\n",
    "while i<=10:\n",
    "    j=2\n",
    "    while j<=7:\n",
    "        k=3\n",
    "        while k<=5:\n",
    "            k+=1\n",
    "        j+=1\n",
    "    i+=1\n",
    "    print(i)"
   ]
  },
  {
   "cell_type": "markdown",
   "id": "443869e4-934e-4616-9f73-c35ca95cf4d3",
   "metadata": {},
   "source": [
    "# FOR LOOP"
   ]
  },
  {
   "cell_type": "code",
   "execution_count": 37,
   "id": "0cb35ea9-103f-4977-959a-4de867520e0c",
   "metadata": {},
   "outputs": [
    {
     "name": "stdout",
     "output_type": "stream",
     "text": [
      "0\n",
      "1\n",
      "2\n",
      "3\n",
      "4\n",
      "5\n",
      "6\n",
      "7\n",
      "8\n",
      "9\n"
     ]
    }
   ],
   "source": [
    "for i in range(10):\n",
    "    print(i)"
   ]
  },
  {
   "cell_type": "markdown",
   "id": "5c3ac2b8-b220-410a-885f-89ee1ba1a6d8",
   "metadata": {},
   "source": [
    "# BREAK"
   ]
  },
  {
   "cell_type": "code",
   "execution_count": 38,
   "id": "8181d9d9-8392-4d8f-b947-682fbaca53a0",
   "metadata": {},
   "outputs": [
    {
     "name": "stdout",
     "output_type": "stream",
     "text": [
      "2\n",
      "3\n",
      "4\n",
      "5\n",
      "6\n"
     ]
    }
   ],
   "source": [
    "i=2\n",
    "while i<=10:\n",
    "    if i==7:\n",
    "        break\n",
    "    else:\n",
    "        print(i)\n",
    "    i+=1"
   ]
  },
  {
   "cell_type": "markdown",
   "id": "760e3ae9-ba13-48b3-be68-62128c4ec284",
   "metadata": {},
   "source": [
    "# CHECK WHEATHER THE NUMBER IS PERFECT OR NOT¶"
   ]
  },
  {
   "cell_type": "code",
   "execution_count": 39,
   "id": "66ddc456-26cc-4a85-b5e0-73dc4e01c23a",
   "metadata": {},
   "outputs": [
    {
     "name": "stdin",
     "output_type": "stream",
     "text": [
      "enter the number 153\n"
     ]
    },
    {
     "name": "stdout",
     "output_type": "stream",
     "text": [
      "armstrong number\n"
     ]
    }
   ],
   "source": [
    "n=int(input('enter the number'))\n",
    "original_num=n\n",
    "num_digits=len(str(n))\n",
    "sum=0\n",
    "while n>0:\n",
    "    digit=n%10\n",
    "    sum+=digit**num_digits\n",
    "    n=n//10\n",
    "if sum==original_num:\n",
    "    print('armstrong number')\n",
    "else:\n",
    "    print('NOT A ARMSTRONG NUMBER')"
   ]
  },
  {
   "cell_type": "markdown",
   "id": "c7914d49-ae01-4223-a884-579338e5632c",
   "metadata": {},
   "source": [
    "# CONTINUE STATEMENT"
   ]
  },
  {
   "cell_type": "code",
   "execution_count": 40,
   "id": "78b81602-d9a0-4d5b-a7bc-a25ff8a6f395",
   "metadata": {},
   "outputs": [
    {
     "name": "stdout",
     "output_type": "stream",
     "text": [
      "1\n",
      "2\n",
      "4\n",
      "5\n",
      "7\n",
      "8\n",
      "else block\n"
     ]
    }
   ],
   "source": [
    "for i in range(10):\n",
    "    if i%3==0:\n",
    "        continue\n",
    "        \n",
    "    print(i)\n",
    "else:\n",
    "    print('else block')"
   ]
  },
  {
   "cell_type": "markdown",
   "id": "2baa6dd3-86e3-4447-926b-2e3ed4cdf0f6",
   "metadata": {},
   "source": [
    "# FACTORIAL OF A NUMBER"
   ]
  },
  {
   "cell_type": "code",
   "execution_count": 41,
   "id": "d9d4d83a-dbbc-4357-8cea-b31cf40a90c2",
   "metadata": {},
   "outputs": [
    {
     "name": "stdin",
     "output_type": "stream",
     "text": [
      "emter the number 3\n"
     ]
    },
    {
     "name": "stdout",
     "output_type": "stream",
     "text": [
      "6\n"
     ]
    }
   ],
   "source": [
    "n=int(input('emter the number'))\n",
    "fact=1\n",
    "for i in range(1,n+1):\n",
    "    fact*=i\n",
    "    continue\n",
    "print(fact)"
   ]
  },
  {
   "cell_type": "code",
   "execution_count": 42,
   "id": "0c02e07a-5099-4471-9518-308bbcd322f4",
   "metadata": {},
   "outputs": [
    {
     "name": "stdin",
     "output_type": "stream",
     "text": [
      "enter the number 3\n"
     ]
    },
    {
     "name": "stdout",
     "output_type": "stream",
     "text": [
      "6\n"
     ]
    }
   ],
   "source": [
    "n=int(input('enter the number'))\n",
    "i=1\n",
    "fact=1\n",
    "while i<=n:\n",
    "    fact*=i\n",
    "    i+=1\n",
    "print(fact)"
   ]
  },
  {
   "cell_type": "markdown",
   "id": "b64b1e9c-8b4c-4305-a671-3e5ad8f5330e",
   "metadata": {},
   "source": [
    "# WRITE A PROGRAM TO PRINT NUMBERS 1 TO 10 EXCEPT 3 AND 6¶"
   ]
  },
  {
   "cell_type": "code",
   "execution_count": 43,
   "id": "094be0d4-c613-43a0-ad3f-6d0b19be9a13",
   "metadata": {},
   "outputs": [
    {
     "name": "stdout",
     "output_type": "stream",
     "text": [
      "0\n",
      "1\n",
      "2\n",
      "4\n",
      "5\n",
      "7\n",
      "8\n",
      "9\n"
     ]
    }
   ],
   "source": [
    "for i in range(10):\n",
    "    if i!=3 and i!=6:\n",
    "       \n",
    "        print(i)"
   ]
  },
  {
   "cell_type": "code",
   "execution_count": 44,
   "id": "d674e7c4-a105-4abc-b4ec-1c126271068c",
   "metadata": {},
   "outputs": [
    {
     "name": "stdout",
     "output_type": "stream",
     "text": [
      "1\n",
      "2\n",
      "4\n",
      "5\n",
      "7\n",
      "8\n",
      "9\n",
      "10\n"
     ]
    }
   ],
   "source": [
    "i=1\n",
    "while i<=10:\n",
    "    if i!=3 and i!=6:\n",
    "        print(i)\n",
    "    i+=1"
   ]
  },
  {
   "cell_type": "markdown",
   "id": "09156cb2-5149-48d2-a846-adaf543a122f",
   "metadata": {},
   "source": [
    "# WRITE A PROGRAM TO PRINT PYTHAGORAS TRIPLETE FROM 1 TO 1000\n"
   ]
  },
  {
   "cell_type": "code",
   "execution_count": 45,
   "id": "5906ba58-c469-486a-811c-f12cf65cfa44",
   "metadata": {},
   "outputs": [
    {
     "name": "stdin",
     "output_type": "stream",
     "text": [
      "enter the first number 1\n",
      "enter the second number 2\n",
      "enter the thirs number 3\n"
     ]
    },
    {
     "name": "stdout",
     "output_type": "stream",
     "text": [
      "not a pythagoras triplete\n"
     ]
    }
   ],
   "source": [
    "a=int(input('enter the first number'))\n",
    "b=int(input('enter the second number'))\n",
    "c=int(input('enter the thirs number'))\n",
    "if a**2+b**2==c**2:\n",
    "    print('pythgoras triplete')\n",
    "else:\n",
    "    print('not a pythagoras triplete')\n",
    "\n",
    "            "
   ]
  },
  {
   "cell_type": "code",
   "execution_count": 46,
   "id": "6bef35fc-0a18-4e8e-9d06-a49d782149a9",
   "metadata": {},
   "outputs": [
    {
     "name": "stdout",
     "output_type": "stream",
     "text": [
      "3 4 5\n",
      "5 12 13\n",
      "6 8 10\n",
      "7 24 25\n",
      "8 15 17\n",
      "9 12 15\n",
      "9 40 41\n",
      "10 24 26\n",
      "11 60 61\n",
      "12 16 20\n",
      "12 35 37\n",
      "13 84 85\n",
      "14 48 50\n",
      "15 20 25\n",
      "15 36 39\n",
      "15 112 113\n",
      "16 30 34\n",
      "16 63 65\n",
      "17 144 145\n",
      "18 24 30\n",
      "18 80 82\n",
      "19 180 181\n",
      "20 21 29\n",
      "20 48 52\n",
      "20 99 101\n",
      "21 28 35\n",
      "21 72 75\n",
      "21 220 221\n",
      "22 120 122\n",
      "23 264 265\n",
      "24 32 40\n",
      "24 45 51\n",
      "24 70 74\n",
      "24 143 145\n",
      "25 60 65\n",
      "25 312 313\n",
      "26 168 170\n",
      "27 36 45\n",
      "27 120 123\n",
      "27 364 365\n",
      "28 45 53\n",
      "28 96 100\n",
      "28 195 197\n",
      "29 420 421\n",
      "30 40 50\n",
      "30 72 78\n",
      "30 224 226\n",
      "31 480 481\n",
      "32 60 68\n",
      "32 126 130\n",
      "32 255 257\n",
      "33 44 55\n",
      "33 56 65\n",
      "33 180 183\n",
      "33 544 545\n",
      "34 288 290\n",
      "35 84 91\n",
      "35 120 125\n",
      "35 612 613\n",
      "36 48 60\n",
      "36 77 85\n",
      "36 105 111\n",
      "36 160 164\n",
      "36 323 325\n",
      "37 684 685\n",
      "38 360 362\n",
      "39 52 65\n",
      "39 80 89\n",
      "39 252 255\n",
      "39 760 761\n",
      "40 42 58\n",
      "40 75 85\n",
      "40 96 104\n",
      "40 198 202\n",
      "40 399 401\n",
      "41 840 841\n",
      "42 56 70\n",
      "42 144 150\n",
      "42 440 442\n",
      "43 924 925\n",
      "44 117 125\n",
      "44 240 244\n",
      "44 483 485\n",
      "45 60 75\n",
      "45 108 117\n",
      "45 200 205\n",
      "45 336 339\n",
      "46 528 530\n",
      "48 55 73\n",
      "48 64 80\n",
      "48 90 102\n",
      "48 140 148\n",
      "48 189 195\n",
      "48 286 290\n",
      "48 575 577\n",
      "49 168 175\n",
      "50 120 130\n",
      "50 624 626\n",
      "51 68 85\n",
      "51 140 149\n",
      "51 432 435\n",
      "52 165 173\n",
      "52 336 340\n",
      "52 675 677\n",
      "54 72 90\n",
      "54 240 246\n",
      "54 728 730\n",
      "55 132 143\n",
      "55 300 305\n",
      "56 90 106\n",
      "56 105 119\n",
      "56 192 200\n",
      "56 390 394\n",
      "56 783 785\n",
      "57 76 95\n",
      "57 176 185\n",
      "57 540 543\n",
      "58 840 842\n",
      "60 63 87\n",
      "60 80 100\n",
      "60 91 109\n",
      "60 144 156\n",
      "60 175 185\n",
      "60 221 229\n",
      "60 297 303\n",
      "60 448 452\n",
      "60 899 901\n",
      "62 960 962\n",
      "63 84 105\n",
      "63 216 225\n",
      "63 280 287\n",
      "63 660 663\n",
      "64 120 136\n",
      "64 252 260\n",
      "64 510 514\n",
      "65 72 97\n",
      "65 156 169\n",
      "65 420 425\n",
      "66 88 110\n",
      "66 112 130\n",
      "66 360 366\n",
      "68 285 293\n",
      "68 576 580\n",
      "69 92 115\n",
      "69 260 269\n",
      "69 792 795\n",
      "70 168 182\n",
      "70 240 250\n",
      "72 96 120\n",
      "72 135 153\n",
      "72 154 170\n",
      "72 210 222\n",
      "72 320 328\n",
      "72 429 435\n",
      "72 646 650\n",
      "75 100 125\n",
      "75 180 195\n",
      "75 308 317\n",
      "75 560 565\n",
      "75 936 939\n",
      "76 357 365\n",
      "76 720 724\n",
      "77 264 275\n",
      "77 420 427\n",
      "78 104 130\n",
      "78 160 178\n",
      "78 504 510\n",
      "80 84 116\n",
      "80 150 170\n",
      "80 192 208\n",
      "80 315 325\n",
      "80 396 404\n",
      "80 798 802\n",
      "81 108 135\n",
      "81 360 369\n",
      "84 112 140\n",
      "84 135 159\n",
      "84 187 205\n",
      "84 245 259\n",
      "84 288 300\n",
      "84 437 445\n",
      "84 585 591\n",
      "84 880 884\n",
      "85 132 157\n",
      "85 204 221\n",
      "85 720 725\n",
      "87 116 145\n",
      "87 416 425\n",
      "88 105 137\n",
      "88 165 187\n",
      "88 234 250\n",
      "88 480 488\n",
      "88 966 970\n",
      "90 120 150\n",
      "90 216 234\n",
      "90 400 410\n",
      "90 672 678\n",
      "91 312 325\n",
      "91 588 595\n",
      "92 525 533\n",
      "93 124 155\n",
      "93 476 485\n",
      "95 168 193\n",
      "95 228 247\n",
      "95 900 905\n",
      "96 110 146\n",
      "96 128 160\n",
      "96 180 204\n",
      "96 247 265\n",
      "96 280 296\n",
      "96 378 390\n",
      "96 572 580\n",
      "96 765 771\n",
      "98 336 350\n",
      "99 132 165\n",
      "99 168 195\n",
      "99 440 451\n",
      "99 540 549\n",
      "100 105 145\n",
      "100 240 260\n",
      "100 495 505\n",
      "100 621 629\n",
      "102 136 170\n",
      "102 280 298\n",
      "102 864 870\n",
      "104 153 185\n",
      "104 195 221\n",
      "104 330 346\n",
      "104 672 680\n",
      "105 140 175\n",
      "105 208 233\n",
      "105 252 273\n",
      "105 360 375\n",
      "105 608 617\n",
      "105 784 791\n",
      "108 144 180\n",
      "108 231 255\n",
      "108 315 333\n",
      "108 480 492\n",
      "108 725 733\n",
      "108 969 975\n",
      "110 264 286\n",
      "110 600 610\n",
      "111 148 185\n",
      "111 680 689\n",
      "112 180 212\n",
      "112 210 238\n",
      "112 384 400\n",
      "112 441 455\n",
      "112 780 788\n",
      "114 152 190\n",
      "114 352 370\n",
      "115 252 277\n",
      "115 276 299\n",
      "116 837 845\n",
      "117 156 195\n",
      "117 240 267\n",
      "117 520 533\n",
      "117 756 765\n",
      "119 120 169\n",
      "119 408 425\n",
      "120 126 174\n",
      "120 160 200\n",
      "120 182 218\n",
      "120 209 241\n",
      "120 225 255\n",
      "120 288 312\n",
      "120 350 370\n",
      "120 391 409\n",
      "120 442 458\n",
      "120 594 606\n",
      "120 715 725\n",
      "120 896 904\n",
      "121 660 671\n",
      "123 164 205\n",
      "123 836 845\n",
      "124 957 965\n",
      "125 300 325\n",
      "126 168 210\n",
      "126 432 450\n",
      "126 560 574\n",
      "128 240 272\n",
      "128 504 520\n",
      "129 172 215\n",
      "129 920 929\n",
      "130 144 194\n",
      "130 312 338\n",
      "130 840 850\n",
      "132 176 220\n",
      "132 224 260\n",
      "132 351 375\n",
      "132 385 407\n",
      "132 475 493\n",
      "132 720 732\n",
      "133 156 205\n",
      "133 456 475\n",
      "135 180 225\n",
      "135 324 351\n",
      "135 352 377\n",
      "135 600 615\n",
      "136 255 289\n",
      "136 273 305\n",
      "136 570 586\n",
      "138 184 230\n",
      "138 520 538\n",
      "140 147 203\n",
      "140 171 221\n",
      "140 225 265\n",
      "140 336 364\n",
      "140 480 500\n",
      "140 693 707\n",
      "140 975 985\n",
      "141 188 235\n",
      "143 780 793\n",
      "143 924 935\n",
      "144 165 219\n",
      "144 192 240\n",
      "144 270 306\n",
      "144 308 340\n",
      "144 420 444\n",
      "144 567 585\n",
      "144 640 656\n",
      "144 858 870\n",
      "145 348 377\n",
      "145 408 433\n",
      "147 196 245\n",
      "147 504 525\n",
      "150 200 250\n",
      "150 360 390\n",
      "150 616 634\n",
      "152 285 323\n",
      "152 345 377\n",
      "152 714 730\n",
      "153 204 255\n",
      "153 420 447\n",
      "153 680 697\n",
      "154 528 550\n",
      "154 840 854\n",
      "155 372 403\n",
      "155 468 493\n",
      "156 208 260\n",
      "156 320 356\n",
      "156 455 481\n",
      "156 495 519\n",
      "156 667 685\n",
      "159 212 265\n",
      "160 168 232\n",
      "160 231 281\n",
      "160 300 340\n",
      "160 384 416\n",
      "160 630 650\n",
      "160 792 808\n",
      "161 240 289\n",
      "161 552 575\n",
      "162 216 270\n",
      "162 720 738\n",
      "165 220 275\n",
      "165 280 325\n",
      "165 396 429\n",
      "165 532 557\n",
      "165 900 915\n",
      "168 224 280\n",
      "168 270 318\n",
      "168 315 357\n",
      "168 374 410\n",
      "168 425 457\n",
      "168 490 518\n",
      "168 576 600\n",
      "168 775 793\n",
      "168 874 890\n",
      "170 264 314\n",
      "170 408 442\n",
      "171 228 285\n",
      "171 528 555\n",
      "171 760 779\n",
      "174 232 290\n",
      "174 832 850\n",
      "175 288 337\n",
      "175 420 455\n",
      "175 600 625\n",
      "176 210 274\n",
      "176 330 374\n",
      "176 468 500\n",
      "176 693 715\n",
      "176 960 976\n",
      "177 236 295\n",
      "180 189 261\n",
      "180 240 300\n",
      "180 273 327\n",
      "180 299 349\n",
      "180 385 425\n",
      "180 432 468\n",
      "180 525 555\n",
      "180 663 687\n",
      "180 800 820\n",
      "180 891 909\n",
      "182 624 650\n",
      "183 244 305\n",
      "184 345 391\n",
      "184 513 545\n",
      "185 444 481\n",
      "185 672 697\n",
      "186 248 310\n",
      "186 952 970\n",
      "189 252 315\n",
      "189 340 389\n",
      "189 648 675\n",
      "189 840 861\n",
      "190 336 386\n",
      "190 456 494\n",
      "192 220 292\n",
      "192 256 320\n",
      "192 360 408\n",
      "192 494 530\n",
      "192 560 592\n",
      "192 756 780\n",
      "195 216 291\n",
      "195 260 325\n",
      "195 400 445\n",
      "195 468 507\n",
      "195 748 773\n",
      "196 315 371\n",
      "196 672 700\n",
      "198 264 330\n",
      "198 336 390\n",
      "198 880 902\n",
      "200 210 290\n",
      "200 375 425\n",
      "200 480 520\n",
      "200 609 641\n",
      "201 268 335\n",
      "203 396 445\n",
      "203 696 725\n",
      "204 253 325\n",
      "204 272 340\n",
      "204 560 596\n",
      "204 595 629\n",
      "204 855 879\n",
      "205 492 533\n",
      "205 828 853\n",
      "207 224 305\n",
      "207 276 345\n",
      "207 780 807\n",
      "207 920 943\n",
      "208 306 370\n",
      "208 390 442\n",
      "208 660 692\n",
      "208 819 845\n",
      "210 280 350\n",
      "210 416 466\n",
      "210 504 546\n",
      "210 720 750\n",
      "213 284 355\n",
      "215 516 559\n",
      "215 912 937\n",
      "216 288 360\n",
      "216 405 459\n",
      "216 462 510\n",
      "216 630 666\n",
      "216 713 745\n",
      "216 960 984\n",
      "217 456 505\n",
      "217 744 775\n",
      "219 292 365\n",
      "220 231 319\n",
      "220 459 509\n",
      "220 528 572\n",
      "220 585 625\n",
      "222 296 370\n",
      "224 360 424\n",
      "224 420 476\n",
      "224 768 800\n",
      "224 882 910\n",
      "225 272 353\n",
      "225 300 375\n",
      "225 540 585\n",
      "225 924 951\n",
      "228 304 380\n",
      "228 325 397\n",
      "228 665 703\n",
      "228 704 740\n",
      "230 504 554\n",
      "230 552 598\n",
      "231 308 385\n",
      "231 392 455\n",
      "231 520 569\n",
      "231 792 825\n",
      "232 435 493\n",
      "232 825 857\n",
      "234 312 390\n",
      "234 480 534\n",
      "235 564 611\n",
      "237 316 395\n",
      "238 240 338\n",
      "238 816 850\n",
      "240 252 348\n",
      "240 275 365\n",
      "240 320 400\n",
      "240 364 436\n",
      "240 418 482\n",
      "240 450 510\n",
      "240 551 601\n",
      "240 576 624\n",
      "240 700 740\n",
      "240 782 818\n",
      "240 884 916\n",
      "240 945 975\n",
      "243 324 405\n",
      "245 588 637\n",
      "245 840 875\n",
      "246 328 410\n",
      "248 465 527\n",
      "248 945 977\n",
      "249 332 415\n",
      "250 600 650\n",
      "252 275 373\n",
      "252 336 420\n",
      "252 405 477\n",
      "252 539 595\n",
      "252 561 615\n",
      "252 735 777\n",
      "252 864 900\n",
      "255 340 425\n",
      "255 396 471\n",
      "255 612 663\n",
      "255 700 745\n",
      "256 480 544\n",
      "258 344 430\n",
      "259 660 709\n",
      "259 888 925\n",
      "260 273 377\n",
      "260 288 388\n",
      "260 624 676\n",
      "260 651 701\n",
      "260 825 865\n",
      "261 348 435\n",
      "261 380 461\n",
      "264 315 411\n",
      "264 352 440\n",
      "264 448 520\n",
      "264 495 561\n",
      "264 702 750\n",
      "264 770 814\n",
      "264 950 986\n",
      "265 636 689\n",
      "266 312 410\n",
      "266 912 950\n",
      "267 356 445\n",
      "270 360 450\n",
      "270 648 702\n",
      "270 704 754\n",
      "272 510 578\n",
      "272 546 610\n",
      "273 364 455\n",
      "273 560 623\n",
      "273 736 785\n",
      "273 936 975\n",
      "275 660 715\n",
      "276 368 460\n",
      "276 493 565\n",
      "276 805 851\n",
      "279 372 465\n",
      "279 440 521\n",
      "280 294 406\n",
      "280 342 442\n",
      "280 351 449\n",
      "280 450 530\n",
      "280 525 595\n",
      "280 672 728\n",
      "280 759 809\n",
      "280 960 1000\n",
      "282 376 470\n",
      "285 380 475\n",
      "285 504 579\n",
      "285 684 741\n",
      "285 880 925\n",
      "287 816 865\n",
      "288 330 438\n",
      "288 384 480\n",
      "288 540 612\n",
      "288 616 680\n",
      "288 741 795\n",
      "288 840 888\n",
      "290 696 754\n",
      "290 816 866\n",
      "291 388 485\n",
      "294 392 490\n",
      "295 708 767\n",
      "296 555 629\n",
      "297 304 425\n",
      "297 396 495\n",
      "297 504 585\n",
      "300 315 435\n",
      "300 400 500\n",
      "300 455 545\n",
      "300 589 661\n",
      "300 720 780\n",
      "300 875 925\n",
      "301 900 949\n",
      "303 404 505\n",
      "304 570 646\n",
      "304 690 754\n",
      "305 732 793\n",
      "306 408 510\n",
      "306 840 894\n",
      "308 435 533\n",
      "308 495 583\n",
      "308 819 875\n",
      "309 412 515\n",
      "310 744 806\n",
      "310 936 986\n",
      "312 416 520\n",
      "312 459 555\n",
      "312 585 663\n",
      "312 640 712\n",
      "312 910 962\n",
      "315 420 525\n",
      "315 572 653\n",
      "315 624 699\n",
      "315 756 819\n",
      "318 424 530\n",
      "319 360 481\n",
      "320 336 464\n",
      "320 462 562\n",
      "320 600 680\n",
      "320 768 832\n",
      "321 428 535\n",
      "322 480 578\n",
      "324 432 540\n",
      "324 693 765\n",
      "324 945 999\n",
      "325 360 485\n",
      "325 780 845\n",
      "327 436 545\n",
      "328 615 697\n",
      "330 440 550\n",
      "330 560 650\n",
      "330 792 858\n",
      "333 444 555\n",
      "333 644 725\n",
      "335 804 871\n",
      "336 377 505\n",
      "336 385 511\n",
      "336 448 560\n",
      "336 527 625\n",
      "336 540 636\n",
      "336 630 714\n",
      "336 748 820\n",
      "336 850 914\n",
      "339 452 565\n",
      "340 357 493\n",
      "340 528 628\n",
      "340 816 884\n",
      "341 420 541\n",
      "342 456 570\n",
      "344 645 731\n",
      "345 460 575\n",
      "345 756 831\n",
      "345 828 897\n",
      "348 464 580\n",
      "348 805 877\n",
      "350 576 674\n",
      "350 840 910\n",
      "351 468 585\n",
      "351 720 801\n",
      "352 420 548\n",
      "352 660 748\n",
      "352 936 1000\n",
      "354 472 590\n",
      "355 852 923\n",
      "357 360 507\n",
      "357 476 595\n",
      "360 378 522\n",
      "360 480 600\n",
      "360 546 654\n",
      "360 598 698\n",
      "360 627 723\n",
      "360 675 765\n",
      "360 770 850\n",
      "360 864 936\n",
      "363 484 605\n",
      "363 616 715\n",
      "364 585 689\n",
      "364 627 725\n",
      "365 876 949\n",
      "366 488 610\n",
      "368 465 593\n",
      "368 690 782\n",
      "369 492 615\n",
      "369 800 881\n",
      "370 888 962\n",
      "372 496 620\n",
      "372 925 997\n",
      "375 500 625\n",
      "375 900 975\n",
      "376 705 799\n",
      "378 504 630\n",
      "378 680 778\n",
      "380 399 551\n",
      "380 672 772\n",
      "380 912 988\n",
      "381 508 635\n",
      "384 440 584\n",
      "384 512 640\n",
      "384 720 816\n",
      "385 552 673\n",
      "387 516 645\n",
      "387 884 965\n",
      "390 432 582\n",
      "390 520 650\n",
      "390 800 890\n",
      "392 630 742\n",
      "392 735 833\n",
      "393 524 655\n",
      "396 403 565\n",
      "396 528 660\n",
      "396 672 780\n",
      "396 847 935\n",
      "399 468 615\n",
      "399 532 665\n",
      "400 420 580\n",
      "400 561 689\n",
      "400 750 850\n",
      "402 536 670\n",
      "405 540 675\n",
      "406 792 890\n",
      "407 624 745\n",
      "408 506 650\n",
      "408 544 680\n",
      "408 765 867\n",
      "408 819 915\n",
      "411 548 685\n",
      "414 448 610\n",
      "414 552 690\n",
      "416 612 740\n",
      "416 780 884\n",
      "417 556 695\n",
      "420 441 609\n",
      "420 513 663\n",
      "420 560 700\n",
      "420 637 763\n",
      "420 675 795\n",
      "420 832 932\n",
      "420 851 949\n",
      "423 564 705\n",
      "424 795 901\n",
      "425 660 785\n",
      "426 568 710\n",
      "429 460 629\n",
      "429 572 715\n",
      "429 700 821\n",
      "429 728 845\n",
      "429 880 979\n",
      "432 495 657\n",
      "432 576 720\n",
      "432 665 793\n",
      "432 810 918\n",
      "435 580 725\n",
      "438 584 730\n",
      "440 462 638\n",
      "440 525 685\n",
      "440 825 935\n",
      "441 588 735\n",
      "444 592 740\n",
      "447 596 745\n",
      "448 720 848\n",
      "448 840 952\n",
      "450 544 706\n",
      "450 600 750\n",
      "451 780 901\n",
      "453 604 755\n",
      "455 504 679\n",
      "455 528 697\n",
      "456 608 760\n",
      "456 650 794\n",
      "456 855 969\n",
      "459 612 765\n",
      "460 483 667\n",
      "462 616 770\n",
      "462 784 910\n",
      "464 777 905\n",
      "464 870 986\n",
      "465 620 775\n",
      "468 595 757\n",
      "468 624 780\n",
      "471 628 785\n",
      "473 864 985\n",
      "474 632 790\n",
      "475 840 965\n",
      "476 480 676\n",
      "476 765 901\n",
      "477 636 795\n",
      "480 504 696\n",
      "480 550 730\n",
      "480 640 800\n",
      "480 693 843\n",
      "480 728 872\n",
      "480 836 964\n",
      "481 600 769\n",
      "483 644 805\n",
      "483 720 867\n",
      "486 648 810\n",
      "489 652 815\n",
      "492 656 820\n",
      "495 660 825\n",
      "495 840 975\n",
      "498 664 830\n",
      "500 525 725\n",
      "501 668 835\n",
      "504 550 746\n",
      "504 672 840\n",
      "504 703 865\n",
      "504 810 954\n",
      "507 676 845\n",
      "510 680 850\n",
      "510 792 942\n",
      "513 684 855\n",
      "516 688 860\n",
      "519 692 865\n",
      "520 546 754\n",
      "520 576 776\n",
      "520 765 925\n",
      "522 696 870\n",
      "522 760 922\n",
      "525 700 875\n",
      "528 605 803\n",
      "528 630 822\n",
      "528 704 880\n",
      "531 708 885\n",
      "532 624 820\n",
      "533 756 925\n",
      "534 712 890\n",
      "537 716 895\n",
      "540 567 783\n",
      "540 629 829\n",
      "540 720 900\n",
      "540 819 981\n",
      "543 724 905\n",
      "546 728 910\n",
      "549 732 915\n",
      "552 736 920\n",
      "555 572 797\n",
      "555 740 925\n",
      "558 744 930\n",
      "560 588 812\n",
      "560 684 884\n",
      "560 702 898\n",
      "561 748 935\n",
      "564 752 940\n",
      "567 756 945\n",
      "570 760 950\n",
      "573 764 955\n",
      "576 660 876\n",
      "576 768 960\n",
      "579 772 965\n",
      "580 609 841\n",
      "580 741 941\n",
      "582 776 970\n",
      "585 648 873\n",
      "585 780 975\n",
      "588 784 980\n",
      "591 788 985\n",
      "594 608 850\n",
      "594 792 990\n",
      "595 600 845\n",
      "597 796 995\n",
      "600 630 870\n",
      "600 800 1000\n",
      "612 759 975\n",
      "615 728 953\n",
      "616 663 905\n",
      "616 735 959\n",
      "620 651 899\n",
      "621 672 915\n",
      "624 715 949\n",
      "638 720 962\n",
      "640 672 928\n",
      "650 720 970\n",
      "660 693 957\n",
      "680 714 986\n",
      "696 697 985\n"
     ]
    }
   ],
   "source": [
    "for a in range(1,1001):\n",
    "    for b in range(a,1001):\n",
    "        c=(a**2+b**2)**0.5\n",
    "        if c==int(c) and c<1001:\n",
    "            print(a,b,int(c))"
   ]
  },
  {
   "cell_type": "code",
   "execution_count": null,
   "id": "cf272996-4f77-4695-bcee-d181ab3eb2e9",
   "metadata": {},
   "outputs": [],
   "source": []
  }
 ],
 "metadata": {
  "kernelspec": {
   "display_name": "Python 3 (ipykernel)",
   "language": "python",
   "name": "python3"
  },
  "language_info": {
   "codemirror_mode": {
    "name": "ipython",
    "version": 3
   },
   "file_extension": ".py",
   "mimetype": "text/x-python",
   "name": "python",
   "nbconvert_exporter": "python",
   "pygments_lexer": "ipython3",
   "version": "3.12.7"
  }
 },
 "nbformat": 4,
 "nbformat_minor": 5
}
